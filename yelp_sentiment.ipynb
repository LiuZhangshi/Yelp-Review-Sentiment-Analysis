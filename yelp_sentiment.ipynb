{
 "cells": [
  {
   "cell_type": "code",
   "execution_count": 1,
   "metadata": {},
   "outputs": [],
   "source": [
    "import pandas as pd\n",
    "import numpy as np"
   ]
  },
  {
   "cell_type": "code",
   "execution_count": 2,
   "metadata": {},
   "outputs": [
    {
     "data": {
      "text/html": [
       "<div>\n",
       "<style scoped>\n",
       "    .dataframe tbody tr th:only-of-type {\n",
       "        vertical-align: middle;\n",
       "    }\n",
       "\n",
       "    .dataframe tbody tr th {\n",
       "        vertical-align: top;\n",
       "    }\n",
       "\n",
       "    .dataframe thead th {\n",
       "        text-align: right;\n",
       "    }\n",
       "</style>\n",
       "<table border=\"1\" class=\"dataframe\">\n",
       "  <thead>\n",
       "    <tr style=\"text-align: right;\">\n",
       "      <th></th>\n",
       "      <th>business_id</th>\n",
       "      <th>date</th>\n",
       "      <th>review_id</th>\n",
       "      <th>stars</th>\n",
       "      <th>text</th>\n",
       "      <th>type</th>\n",
       "      <th>user_id</th>\n",
       "      <th>cool</th>\n",
       "      <th>useful</th>\n",
       "      <th>funny</th>\n",
       "    </tr>\n",
       "  </thead>\n",
       "  <tbody>\n",
       "    <tr>\n",
       "      <th>0</th>\n",
       "      <td>9yKzy9PApeiPPOUJEtnvkg</td>\n",
       "      <td>2011-01-26</td>\n",
       "      <td>fWKvX83p0-ka4JS3dc6E5A</td>\n",
       "      <td>5</td>\n",
       "      <td>My wife took me here on my birthday for breakf...</td>\n",
       "      <td>review</td>\n",
       "      <td>rLtl8ZkDX5vH5nAx9C3q5Q</td>\n",
       "      <td>2</td>\n",
       "      <td>5</td>\n",
       "      <td>0</td>\n",
       "    </tr>\n",
       "    <tr>\n",
       "      <th>1</th>\n",
       "      <td>ZRJwVLyzEJq1VAihDhYiow</td>\n",
       "      <td>2011-07-27</td>\n",
       "      <td>IjZ33sJrzXqU-0X6U8NwyA</td>\n",
       "      <td>5</td>\n",
       "      <td>I have no idea why some people give bad review...</td>\n",
       "      <td>review</td>\n",
       "      <td>0a2KyEL0d3Yb1V6aivbIuQ</td>\n",
       "      <td>0</td>\n",
       "      <td>0</td>\n",
       "      <td>0</td>\n",
       "    </tr>\n",
       "    <tr>\n",
       "      <th>2</th>\n",
       "      <td>6oRAC4uyJCsJl1X0WZpVSA</td>\n",
       "      <td>2012-06-14</td>\n",
       "      <td>IESLBzqUCLdSzSqm0eCSxQ</td>\n",
       "      <td>4</td>\n",
       "      <td>love the gyro plate. Rice is so good and I als...</td>\n",
       "      <td>review</td>\n",
       "      <td>0hT2KtfLiobPvh6cDC8JQg</td>\n",
       "      <td>0</td>\n",
       "      <td>1</td>\n",
       "      <td>0</td>\n",
       "    </tr>\n",
       "    <tr>\n",
       "      <th>3</th>\n",
       "      <td>_1QQZuf4zZOyFCvXc0o6Vg</td>\n",
       "      <td>2010-05-27</td>\n",
       "      <td>G-WvGaISbqqaMHlNnByodA</td>\n",
       "      <td>5</td>\n",
       "      <td>Rosie, Dakota, and I LOVE Chaparral Dog Park!!...</td>\n",
       "      <td>review</td>\n",
       "      <td>uZetl9T0NcROGOyFfughhg</td>\n",
       "      <td>1</td>\n",
       "      <td>2</td>\n",
       "      <td>0</td>\n",
       "    </tr>\n",
       "    <tr>\n",
       "      <th>4</th>\n",
       "      <td>6ozycU1RpktNG2-1BroVtw</td>\n",
       "      <td>2012-01-05</td>\n",
       "      <td>1uJFq2r5QfJG_6ExMRCaGw</td>\n",
       "      <td>5</td>\n",
       "      <td>General Manager Scott Petello is a good egg!!!...</td>\n",
       "      <td>review</td>\n",
       "      <td>vYmM4KTsC8ZfQBg-j5MWkw</td>\n",
       "      <td>0</td>\n",
       "      <td>0</td>\n",
       "      <td>0</td>\n",
       "    </tr>\n",
       "  </tbody>\n",
       "</table>\n",
       "</div>"
      ],
      "text/plain": [
       "              business_id        date               review_id  stars  \\\n",
       "0  9yKzy9PApeiPPOUJEtnvkg  2011-01-26  fWKvX83p0-ka4JS3dc6E5A      5   \n",
       "1  ZRJwVLyzEJq1VAihDhYiow  2011-07-27  IjZ33sJrzXqU-0X6U8NwyA      5   \n",
       "2  6oRAC4uyJCsJl1X0WZpVSA  2012-06-14  IESLBzqUCLdSzSqm0eCSxQ      4   \n",
       "3  _1QQZuf4zZOyFCvXc0o6Vg  2010-05-27  G-WvGaISbqqaMHlNnByodA      5   \n",
       "4  6ozycU1RpktNG2-1BroVtw  2012-01-05  1uJFq2r5QfJG_6ExMRCaGw      5   \n",
       "\n",
       "                                                text    type  \\\n",
       "0  My wife took me here on my birthday for breakf...  review   \n",
       "1  I have no idea why some people give bad review...  review   \n",
       "2  love the gyro plate. Rice is so good and I als...  review   \n",
       "3  Rosie, Dakota, and I LOVE Chaparral Dog Park!!...  review   \n",
       "4  General Manager Scott Petello is a good egg!!!...  review   \n",
       "\n",
       "                  user_id  cool  useful  funny  \n",
       "0  rLtl8ZkDX5vH5nAx9C3q5Q     2       5      0  \n",
       "1  0a2KyEL0d3Yb1V6aivbIuQ     0       0      0  \n",
       "2  0hT2KtfLiobPvh6cDC8JQg     0       1      0  \n",
       "3  uZetl9T0NcROGOyFfughhg     1       2      0  \n",
       "4  vYmM4KTsC8ZfQBg-j5MWkw     0       0      0  "
      ]
     },
     "execution_count": 2,
     "metadata": {},
     "output_type": "execute_result"
    }
   ],
   "source": [
    "table_review = pd.read_csv('yelp.csv')\n",
    "table_review.head()"
   ]
  },
  {
   "cell_type": "code",
   "execution_count": 3,
   "metadata": {},
   "outputs": [],
   "source": [
    "table_review = table_review.drop(['business_id', 'date', 'review_id', 'type', 'user_id', 'cool', 'useful', 'funny'], axis = 1)"
   ]
  },
  {
   "cell_type": "code",
   "execution_count": 4,
   "metadata": {},
   "outputs": [],
   "source": [
    "def simplify_reviews(d_set):\n",
    "    bins = (-1, 2.1, 3.9, 5.1)\n",
    "    group_names = ['negative', 'neutral', 'positive']\n",
    "    categories = pd.cut(d_set.stars, bins, labels = group_names)\n",
    "    d_set.stars = categories\n",
    "    return d_set"
   ]
  },
  {
   "cell_type": "code",
   "execution_count": 5,
   "metadata": {},
   "outputs": [],
   "source": [
    "table_review = simplify_reviews(table_review)"
   ]
  },
  {
   "cell_type": "code",
   "execution_count": 6,
   "metadata": {},
   "outputs": [
    {
     "data": {
      "text/html": [
       "<div>\n",
       "<style scoped>\n",
       "    .dataframe tbody tr th:only-of-type {\n",
       "        vertical-align: middle;\n",
       "    }\n",
       "\n",
       "    .dataframe tbody tr th {\n",
       "        vertical-align: top;\n",
       "    }\n",
       "\n",
       "    .dataframe thead th {\n",
       "        text-align: right;\n",
       "    }\n",
       "</style>\n",
       "<table border=\"1\" class=\"dataframe\">\n",
       "  <thead>\n",
       "    <tr style=\"text-align: right;\">\n",
       "      <th></th>\n",
       "      <th>stars</th>\n",
       "      <th>text</th>\n",
       "    </tr>\n",
       "  </thead>\n",
       "  <tbody>\n",
       "    <tr>\n",
       "      <th>0</th>\n",
       "      <td>positive</td>\n",
       "      <td>My wife took me here on my birthday for breakf...</td>\n",
       "    </tr>\n",
       "    <tr>\n",
       "      <th>1</th>\n",
       "      <td>positive</td>\n",
       "      <td>I have no idea why some people give bad review...</td>\n",
       "    </tr>\n",
       "    <tr>\n",
       "      <th>2</th>\n",
       "      <td>positive</td>\n",
       "      <td>love the gyro plate. Rice is so good and I als...</td>\n",
       "    </tr>\n",
       "    <tr>\n",
       "      <th>3</th>\n",
       "      <td>positive</td>\n",
       "      <td>Rosie, Dakota, and I LOVE Chaparral Dog Park!!...</td>\n",
       "    </tr>\n",
       "    <tr>\n",
       "      <th>4</th>\n",
       "      <td>positive</td>\n",
       "      <td>General Manager Scott Petello is a good egg!!!...</td>\n",
       "    </tr>\n",
       "  </tbody>\n",
       "</table>\n",
       "</div>"
      ],
      "text/plain": [
       "      stars                                               text\n",
       "0  positive  My wife took me here on my birthday for breakf...\n",
       "1  positive  I have no idea why some people give bad review...\n",
       "2  positive  love the gyro plate. Rice is so good and I als...\n",
       "3  positive  Rosie, Dakota, and I LOVE Chaparral Dog Park!!...\n",
       "4  positive  General Manager Scott Petello is a good egg!!!..."
      ]
     },
     "execution_count": 6,
     "metadata": {},
     "output_type": "execute_result"
    }
   ],
   "source": [
    "table_review.head()"
   ]
  },
  {
   "cell_type": "code",
   "execution_count": 7,
   "metadata": {},
   "outputs": [],
   "source": [
    "from nltk.tokenize import RegexpTokenizer\n",
    "from nltk.corpus import stopwords\n",
    "import string\n",
    "tok = RegexpTokenizer('\\w+')\n",
    "stop_words = set(stopwords.words('english'))\n"
   ]
  },
  {
   "cell_type": "code",
   "execution_count": 9,
   "metadata": {},
   "outputs": [],
   "source": [
    "def clean_text(text):\n",
    "    text_cleaned = []\n",
    "    for stc in text:\n",
    "        stc_tok = tok.tokenize(stc)\n",
    "        words_alpha = [word.lower() for word in stc_tok if word.isalpha()]\n",
    "        words_cleaned = [w for w in words_alpha if not w in stop_words]\n",
    "        text_cleaned.append(words_cleaned)\n",
    "    return text_cleaned"
   ]
  },
  {
   "cell_type": "code",
   "execution_count": 10,
   "metadata": {},
   "outputs": [],
   "source": [
    "text_cleaned = clean_text(table_review.text)"
   ]
  },
  {
   "cell_type": "code",
   "execution_count": 12,
   "metadata": {},
   "outputs": [
    {
     "name": "stderr",
     "output_type": "stream",
     "text": [
      "Using TensorFlow backend.\n"
     ]
    }
   ],
   "source": [
    "from sklearn.preprocessing import LabelEncoder\n",
    "\n",
    "le = LabelEncoder().fit(table_review.stars)\n",
    "labels = le.transform(table_review.stars)\n",
    "\n",
    "from keras import utils\n",
    "y_nums = 3\n",
    "y_all_onehot = utils.to_categorical(labels, y_nums)"
   ]
  },
  {
   "cell_type": "code",
   "execution_count": 32,
   "metadata": {},
   "outputs": [],
   "source": [
    "from keras.preprocessing.text import Tokenizer\n",
    "from keras.preprocessing.sequence import pad_sequences\n",
    "\n",
    "# Tokenize the text\n",
    "tk = Tokenizer(num_words=6000, filters='!\"#$%&()*+,-./:;<=>?@[\\\\]^_`{|}~\\t\\n',\n",
    "                lower = True, split=' ')\n",
    "tk.fit_on_texts(text_cleaned)\n",
    "x_all = tk.texts_to_sequences(text_cleaned)\n",
    "\n",
    "# Pad sequences for LSTM\n",
    "x_all_pad = pad_sequences(x_all, padding = 'pre', value = 0.0)"
   ]
  },
  {
   "cell_type": "code",
   "execution_count": 49,
   "metadata": {},
   "outputs": [
    {
     "name": "stderr",
     "output_type": "stream",
     "text": [
      "/Users/liuzhangshi/anaconda3/envs/tensorflow/lib/python3.7/site-packages/ipykernel_launcher.py:10: UserWarning: Update your `LSTM` call to the Keras 2 API: `LSTM(64, activation=\"tanh\", return_sequences=True, dropout=0.2, recurrent_dropout=0.2)`\n",
      "  # Remove the CWD from sys.path while we load stuff.\n",
      "/Users/liuzhangshi/anaconda3/envs/tensorflow/lib/python3.7/site-packages/ipykernel_launcher.py:11: UserWarning: Update your `LSTM` call to the Keras 2 API: `LSTM(64, activation=\"tanh\", return_sequences=False, dropout=0.2, recurrent_dropout=0.2)`\n",
      "  # This is added back by InteractiveShellApp.init_path()\n"
     ]
    }
   ],
   "source": [
    "from keras.models import Sequential\n",
    "from keras.layers import LSTM, Bidirectional, Dense, Embedding, GlobalMaxPool1D\n",
    "\n",
    "x_num_class = 6000\n",
    "input_dim = x_num_class\n",
    "output_dim = 256\n",
    "input_length = len(x_all_pad[1])\n",
    "lstm_model = Sequential()\n",
    "lstm_model.add(Embedding(input_dim = input_dim, output_dim = output_dim, input_length=input_length, trainable = False))\n",
    "lstm_model.add(Bidirectional(LSTM(64, activation = 'tanh', return_sequences = True, dropout_U = 0.2, dropout_W = 0.2)))\n",
    "lstm_model.add(LSTM(64, activation = 'tanh', return_sequences = False, dropout_U = 0.2, dropout_W = 0.2))\n",
    "#lstm_model.add(GlobalMaxPool1D())\n",
    "lstm_model.add(Dense(64, activation = 'relu'))\n",
    "lstm_model.add(Dense(3, activation = 'softmax'))\n",
    "lstm_model.compile(optimizer = 'Adam', loss = 'categorical_crossentropy', metrics = ['accuracy'])"
   ]
  },
  {
   "cell_type": "code",
   "execution_count": 50,
   "metadata": {},
   "outputs": [
    {
     "name": "stdout",
     "output_type": "stream",
     "text": [
      "_________________________________________________________________\n",
      "Layer (type)                 Output Shape              Param #   \n",
      "=================================================================\n",
      "embedding_11 (Embedding)     (None, 449, 256)          1536000   \n",
      "_________________________________________________________________\n",
      "bidirectional_8 (Bidirection (None, 449, 128)          164352    \n",
      "_________________________________________________________________\n",
      "lstm_14 (LSTM)               (None, 64)                49408     \n",
      "_________________________________________________________________\n",
      "dense_18 (Dense)             (None, 64)                4160      \n",
      "_________________________________________________________________\n",
      "dense_19 (Dense)             (None, 3)                 195       \n",
      "=================================================================\n",
      "Total params: 1,754,115\n",
      "Trainable params: 218,115\n",
      "Non-trainable params: 1,536,000\n",
      "_________________________________________________________________\n"
     ]
    }
   ],
   "source": [
    "lstm_model.summary()"
   ]
  },
  {
   "cell_type": "code",
   "execution_count": 76,
   "metadata": {},
   "outputs": [
    {
     "name": "stdout",
     "output_type": "stream",
     "text": [
      "Train on 8000 samples, validate on 2000 samples\n",
      "Epoch 1/50\n",
      "8000/8000 [==============================] - 257s 32ms/step - loss: 0.1990 - acc: 0.9207 - val_loss: 0.9878 - val_acc: 0.7275\n",
      "Epoch 2/50\n",
      "8000/8000 [==============================] - 246s 31ms/step - loss: 0.2095 - acc: 0.9194 - val_loss: 0.9639 - val_acc: 0.7160\n",
      "Epoch 3/50\n",
      "8000/8000 [==============================] - 246s 31ms/step - loss: 0.2007 - acc: 0.9239 - val_loss: 0.9522 - val_acc: 0.7215\n",
      "Epoch 4/50\n",
      "8000/8000 [==============================] - 248s 31ms/step - loss: 0.1965 - acc: 0.9260 - val_loss: 0.9664 - val_acc: 0.7350\n",
      "Epoch 5/50\n",
      "8000/8000 [==============================] - 244s 30ms/step - loss: 0.1857 - acc: 0.9225 - val_loss: 1.0182 - val_acc: 0.7250\n",
      "Epoch 6/50\n",
      "8000/8000 [==============================] - 245s 31ms/step - loss: 0.1916 - acc: 0.9235 - val_loss: 0.9924 - val_acc: 0.7330\n",
      "Epoch 7/50\n",
      "8000/8000 [==============================] - 243s 30ms/step - loss: 0.1854 - acc: 0.9299 - val_loss: 1.0131 - val_acc: 0.7355\n",
      "Epoch 8/50\n",
      "8000/8000 [==============================] - 244s 31ms/step - loss: 0.1817 - acc: 0.9291 - val_loss: 1.0841 - val_acc: 0.7415\n",
      "Epoch 9/50\n",
      "8000/8000 [==============================] - 244s 30ms/step - loss: 0.1867 - acc: 0.9264 - val_loss: 1.0587 - val_acc: 0.7370\n",
      "Epoch 10/50\n",
      "8000/8000 [==============================] - 245s 31ms/step - loss: 0.1798 - acc: 0.9349 - val_loss: 0.9918 - val_acc: 0.7365\n",
      "Epoch 11/50\n",
      "8000/8000 [==============================] - 244s 31ms/step - loss: 0.1699 - acc: 0.9340 - val_loss: 1.0574 - val_acc: 0.7145\n",
      "Epoch 12/50\n",
      "8000/8000 [==============================] - 245s 31ms/step - loss: 0.1623 - acc: 0.9363 - val_loss: 1.0541 - val_acc: 0.7405\n",
      "Epoch 13/50\n",
      "8000/8000 [==============================] - 243s 30ms/step - loss: 0.1620 - acc: 0.9377 - val_loss: 1.0906 - val_acc: 0.7375\n",
      "Epoch 14/50\n",
      "8000/8000 [==============================] - 245s 31ms/step - loss: 0.1616 - acc: 0.9391 - val_loss: 1.0651 - val_acc: 0.7360\n",
      "Epoch 15/50\n",
      "8000/8000 [==============================] - 245s 31ms/step - loss: 0.1699 - acc: 0.9340 - val_loss: 1.0466 - val_acc: 0.7390\n",
      "Epoch 16/50\n",
      "8000/8000 [==============================] - 245s 31ms/step - loss: 0.1497 - acc: 0.9426 - val_loss: 1.0762 - val_acc: 0.7230\n",
      "Epoch 17/50\n",
      "8000/8000 [==============================] - 245s 31ms/step - loss: 0.1671 - acc: 0.9391 - val_loss: 1.0453 - val_acc: 0.7310\n",
      "Epoch 18/50\n",
      "8000/8000 [==============================] - 243s 30ms/step - loss: 0.1578 - acc: 0.9421 - val_loss: 1.0409 - val_acc: 0.7190\n",
      "Epoch 19/50\n",
      "8000/8000 [==============================] - 244s 30ms/step - loss: 0.1556 - acc: 0.9407 - val_loss: 1.0945 - val_acc: 0.7330\n",
      "Epoch 20/50\n",
      "8000/8000 [==============================] - 244s 31ms/step - loss: 0.1471 - acc: 0.9460 - val_loss: 1.0925 - val_acc: 0.7405\n",
      "Epoch 21/50\n",
      "8000/8000 [==============================] - 244s 31ms/step - loss: 0.1438 - acc: 0.9479 - val_loss: 1.0609 - val_acc: 0.7405\n",
      "Epoch 22/50\n",
      "8000/8000 [==============================] - 245s 31ms/step - loss: 0.1441 - acc: 0.9429 - val_loss: 1.0751 - val_acc: 0.7305\n",
      "Epoch 23/50\n",
      "8000/8000 [==============================] - 244s 30ms/step - loss: 0.1351 - acc: 0.9474 - val_loss: 1.1395 - val_acc: 0.7485\n",
      "Epoch 24/50\n",
      "8000/8000 [==============================] - 244s 30ms/step - loss: 0.1337 - acc: 0.9514 - val_loss: 1.1291 - val_acc: 0.7370\n",
      "Epoch 25/50\n",
      "8000/8000 [==============================] - 244s 30ms/step - loss: 0.1262 - acc: 0.9509 - val_loss: 1.1550 - val_acc: 0.7390\n",
      "Epoch 26/50\n",
      "8000/8000 [==============================] - 243s 30ms/step - loss: 0.1322 - acc: 0.9485 - val_loss: 1.1530 - val_acc: 0.7410\n",
      "Epoch 27/50\n",
      "8000/8000 [==============================] - 243s 30ms/step - loss: 0.1194 - acc: 0.9557 - val_loss: 1.1536 - val_acc: 0.7405\n",
      "Epoch 28/50\n",
      "8000/8000 [==============================] - 244s 30ms/step - loss: 0.1343 - acc: 0.9499 - val_loss: 1.1536 - val_acc: 0.7420\n",
      "Epoch 29/50\n",
      "8000/8000 [==============================] - 244s 31ms/step - loss: 0.1231 - acc: 0.9566 - val_loss: 1.1579 - val_acc: 0.7245\n",
      "Epoch 30/50\n",
      "8000/8000 [==============================] - 261s 33ms/step - loss: 0.1194 - acc: 0.9564 - val_loss: 1.1770 - val_acc: 0.7230\n",
      "Epoch 31/50\n",
      "8000/8000 [==============================] - 246s 31ms/step - loss: 0.1160 - acc: 0.9573 - val_loss: 1.1587 - val_acc: 0.7400\n",
      "Epoch 32/50\n",
      "8000/8000 [==============================] - 245s 31ms/step - loss: 0.1139 - acc: 0.9579 - val_loss: 1.2312 - val_acc: 0.7340\n",
      "Epoch 33/50\n",
      "8000/8000 [==============================] - 247s 31ms/step - loss: 0.1037 - acc: 0.9615 - val_loss: 1.2157 - val_acc: 0.7270\n",
      "Epoch 34/50\n",
      "8000/8000 [==============================] - 253s 32ms/step - loss: 0.0999 - acc: 0.9630 - val_loss: 1.2013 - val_acc: 0.7155\n",
      "Epoch 35/50\n",
      "8000/8000 [==============================] - 252s 32ms/step - loss: 0.1144 - acc: 0.9567 - val_loss: 1.2278 - val_acc: 0.7325\n",
      "Epoch 36/50\n",
      "1408/8000 [====>.........................] - ETA: 3:21 - loss: 0.0943 - acc: 0.9688"
     ]
    },
    {
     "ename": "KeyboardInterrupt",
     "evalue": "",
     "output_type": "error",
     "traceback": [
      "\u001b[0;31m---------------------------------------------------------------------------\u001b[0m",
      "\u001b[0;31mKeyboardInterrupt\u001b[0m                         Traceback (most recent call last)",
      "\u001b[0;32m<ipython-input-76-a4ec37dcd7b1>\u001b[0m in \u001b[0;36m<module>\u001b[0;34m\u001b[0m\n\u001b[1;32m      1\u001b[0m history = lstm_model.fit(x_all_pad, y_all_onehot, epochs = 50, batch_size = 64, \n\u001b[0;32m----> 2\u001b[0;31m                          validation_split = 0.2, verbose = 1)\n\u001b[0m",
      "\u001b[0;32m~/anaconda3/envs/tensorflow/lib/python3.7/site-packages/keras/engine/training.py\u001b[0m in \u001b[0;36mfit\u001b[0;34m(self, x, y, batch_size, epochs, verbose, callbacks, validation_split, validation_data, shuffle, class_weight, sample_weight, initial_epoch, steps_per_epoch, validation_steps, **kwargs)\u001b[0m\n\u001b[1;32m   1037\u001b[0m                                         \u001b[0minitial_epoch\u001b[0m\u001b[0;34m=\u001b[0m\u001b[0minitial_epoch\u001b[0m\u001b[0;34m,\u001b[0m\u001b[0;34m\u001b[0m\u001b[0;34m\u001b[0m\u001b[0m\n\u001b[1;32m   1038\u001b[0m                                         \u001b[0msteps_per_epoch\u001b[0m\u001b[0;34m=\u001b[0m\u001b[0msteps_per_epoch\u001b[0m\u001b[0;34m,\u001b[0m\u001b[0;34m\u001b[0m\u001b[0;34m\u001b[0m\u001b[0m\n\u001b[0;32m-> 1039\u001b[0;31m                                         validation_steps=validation_steps)\n\u001b[0m\u001b[1;32m   1040\u001b[0m \u001b[0;34m\u001b[0m\u001b[0m\n\u001b[1;32m   1041\u001b[0m     def evaluate(self, x=None, y=None,\n",
      "\u001b[0;32m~/anaconda3/envs/tensorflow/lib/python3.7/site-packages/keras/engine/training_arrays.py\u001b[0m in \u001b[0;36mfit_loop\u001b[0;34m(model, f, ins, out_labels, batch_size, epochs, verbose, callbacks, val_f, val_ins, shuffle, callback_metrics, initial_epoch, steps_per_epoch, validation_steps)\u001b[0m\n\u001b[1;32m    197\u001b[0m                     \u001b[0mins_batch\u001b[0m\u001b[0;34m[\u001b[0m\u001b[0mi\u001b[0m\u001b[0;34m]\u001b[0m \u001b[0;34m=\u001b[0m \u001b[0mins_batch\u001b[0m\u001b[0;34m[\u001b[0m\u001b[0mi\u001b[0m\u001b[0;34m]\u001b[0m\u001b[0;34m.\u001b[0m\u001b[0mtoarray\u001b[0m\u001b[0;34m(\u001b[0m\u001b[0;34m)\u001b[0m\u001b[0;34m\u001b[0m\u001b[0;34m\u001b[0m\u001b[0m\n\u001b[1;32m    198\u001b[0m \u001b[0;34m\u001b[0m\u001b[0m\n\u001b[0;32m--> 199\u001b[0;31m                 \u001b[0mouts\u001b[0m \u001b[0;34m=\u001b[0m \u001b[0mf\u001b[0m\u001b[0;34m(\u001b[0m\u001b[0mins_batch\u001b[0m\u001b[0;34m)\u001b[0m\u001b[0;34m\u001b[0m\u001b[0;34m\u001b[0m\u001b[0m\n\u001b[0m\u001b[1;32m    200\u001b[0m                 \u001b[0mouts\u001b[0m \u001b[0;34m=\u001b[0m \u001b[0mto_list\u001b[0m\u001b[0;34m(\u001b[0m\u001b[0mouts\u001b[0m\u001b[0;34m)\u001b[0m\u001b[0;34m\u001b[0m\u001b[0;34m\u001b[0m\u001b[0m\n\u001b[1;32m    201\u001b[0m                 \u001b[0;32mfor\u001b[0m \u001b[0ml\u001b[0m\u001b[0;34m,\u001b[0m \u001b[0mo\u001b[0m \u001b[0;32min\u001b[0m \u001b[0mzip\u001b[0m\u001b[0;34m(\u001b[0m\u001b[0mout_labels\u001b[0m\u001b[0;34m,\u001b[0m \u001b[0mouts\u001b[0m\u001b[0;34m)\u001b[0m\u001b[0;34m:\u001b[0m\u001b[0;34m\u001b[0m\u001b[0;34m\u001b[0m\u001b[0m\n",
      "\u001b[0;32m~/anaconda3/envs/tensorflow/lib/python3.7/site-packages/keras/backend/tensorflow_backend.py\u001b[0m in \u001b[0;36m__call__\u001b[0;34m(self, inputs)\u001b[0m\n\u001b[1;32m   2713\u001b[0m                 \u001b[0;32mreturn\u001b[0m \u001b[0mself\u001b[0m\u001b[0;34m.\u001b[0m\u001b[0m_legacy_call\u001b[0m\u001b[0;34m(\u001b[0m\u001b[0minputs\u001b[0m\u001b[0;34m)\u001b[0m\u001b[0;34m\u001b[0m\u001b[0;34m\u001b[0m\u001b[0m\n\u001b[1;32m   2714\u001b[0m \u001b[0;34m\u001b[0m\u001b[0m\n\u001b[0;32m-> 2715\u001b[0;31m             \u001b[0;32mreturn\u001b[0m \u001b[0mself\u001b[0m\u001b[0;34m.\u001b[0m\u001b[0m_call\u001b[0m\u001b[0;34m(\u001b[0m\u001b[0minputs\u001b[0m\u001b[0;34m)\u001b[0m\u001b[0;34m\u001b[0m\u001b[0;34m\u001b[0m\u001b[0m\n\u001b[0m\u001b[1;32m   2716\u001b[0m         \u001b[0;32melse\u001b[0m\u001b[0;34m:\u001b[0m\u001b[0;34m\u001b[0m\u001b[0;34m\u001b[0m\u001b[0m\n\u001b[1;32m   2717\u001b[0m             \u001b[0;32mif\u001b[0m \u001b[0mpy_any\u001b[0m\u001b[0;34m(\u001b[0m\u001b[0mis_tensor\u001b[0m\u001b[0;34m(\u001b[0m\u001b[0mx\u001b[0m\u001b[0;34m)\u001b[0m \u001b[0;32mfor\u001b[0m \u001b[0mx\u001b[0m \u001b[0;32min\u001b[0m \u001b[0minputs\u001b[0m\u001b[0;34m)\u001b[0m\u001b[0;34m:\u001b[0m\u001b[0;34m\u001b[0m\u001b[0;34m\u001b[0m\u001b[0m\n",
      "\u001b[0;32m~/anaconda3/envs/tensorflow/lib/python3.7/site-packages/keras/backend/tensorflow_backend.py\u001b[0m in \u001b[0;36m_call\u001b[0;34m(self, inputs)\u001b[0m\n\u001b[1;32m   2673\u001b[0m             \u001b[0mfetched\u001b[0m \u001b[0;34m=\u001b[0m \u001b[0mself\u001b[0m\u001b[0;34m.\u001b[0m\u001b[0m_callable_fn\u001b[0m\u001b[0;34m(\u001b[0m\u001b[0;34m*\u001b[0m\u001b[0marray_vals\u001b[0m\u001b[0;34m,\u001b[0m \u001b[0mrun_metadata\u001b[0m\u001b[0;34m=\u001b[0m\u001b[0mself\u001b[0m\u001b[0;34m.\u001b[0m\u001b[0mrun_metadata\u001b[0m\u001b[0;34m)\u001b[0m\u001b[0;34m\u001b[0m\u001b[0;34m\u001b[0m\u001b[0m\n\u001b[1;32m   2674\u001b[0m         \u001b[0;32melse\u001b[0m\u001b[0;34m:\u001b[0m\u001b[0;34m\u001b[0m\u001b[0;34m\u001b[0m\u001b[0m\n\u001b[0;32m-> 2675\u001b[0;31m             \u001b[0mfetched\u001b[0m \u001b[0;34m=\u001b[0m \u001b[0mself\u001b[0m\u001b[0;34m.\u001b[0m\u001b[0m_callable_fn\u001b[0m\u001b[0;34m(\u001b[0m\u001b[0;34m*\u001b[0m\u001b[0marray_vals\u001b[0m\u001b[0;34m)\u001b[0m\u001b[0;34m\u001b[0m\u001b[0;34m\u001b[0m\u001b[0m\n\u001b[0m\u001b[1;32m   2676\u001b[0m         \u001b[0;32mreturn\u001b[0m \u001b[0mfetched\u001b[0m\u001b[0;34m[\u001b[0m\u001b[0;34m:\u001b[0m\u001b[0mlen\u001b[0m\u001b[0;34m(\u001b[0m\u001b[0mself\u001b[0m\u001b[0;34m.\u001b[0m\u001b[0moutputs\u001b[0m\u001b[0;34m)\u001b[0m\u001b[0;34m]\u001b[0m\u001b[0;34m\u001b[0m\u001b[0;34m\u001b[0m\u001b[0m\n\u001b[1;32m   2677\u001b[0m \u001b[0;34m\u001b[0m\u001b[0m\n",
      "\u001b[0;32m~/anaconda3/envs/tensorflow/lib/python3.7/site-packages/tensorflow/python/client/session.py\u001b[0m in \u001b[0;36m__call__\u001b[0;34m(self, *args, **kwargs)\u001b[0m\n\u001b[1;32m   1437\u001b[0m           ret = tf_session.TF_SessionRunCallable(\n\u001b[1;32m   1438\u001b[0m               \u001b[0mself\u001b[0m\u001b[0;34m.\u001b[0m\u001b[0m_session\u001b[0m\u001b[0;34m.\u001b[0m\u001b[0m_session\u001b[0m\u001b[0;34m,\u001b[0m \u001b[0mself\u001b[0m\u001b[0;34m.\u001b[0m\u001b[0m_handle\u001b[0m\u001b[0;34m,\u001b[0m \u001b[0margs\u001b[0m\u001b[0;34m,\u001b[0m \u001b[0mstatus\u001b[0m\u001b[0;34m,\u001b[0m\u001b[0;34m\u001b[0m\u001b[0;34m\u001b[0m\u001b[0m\n\u001b[0;32m-> 1439\u001b[0;31m               run_metadata_ptr)\n\u001b[0m\u001b[1;32m   1440\u001b[0m         \u001b[0;32mif\u001b[0m \u001b[0mrun_metadata\u001b[0m\u001b[0;34m:\u001b[0m\u001b[0;34m\u001b[0m\u001b[0;34m\u001b[0m\u001b[0m\n\u001b[1;32m   1441\u001b[0m           \u001b[0mproto_data\u001b[0m \u001b[0;34m=\u001b[0m \u001b[0mtf_session\u001b[0m\u001b[0;34m.\u001b[0m\u001b[0mTF_GetBuffer\u001b[0m\u001b[0;34m(\u001b[0m\u001b[0mrun_metadata_ptr\u001b[0m\u001b[0;34m)\u001b[0m\u001b[0;34m\u001b[0m\u001b[0;34m\u001b[0m\u001b[0m\n",
      "\u001b[0;31mKeyboardInterrupt\u001b[0m: "
     ]
    }
   ],
   "source": [
    "history = lstm_model.fit(x_all_pad, y_all_onehot, epochs = 50, batch_size = 64, \n",
    "                         validation_split = 0.2, verbose = 1)"
   ]
  },
  {
   "cell_type": "code",
   "execution_count": 67,
   "metadata": {},
   "outputs": [],
   "source": [
    "all_words = \" \".join(review for review in table_review.text)"
   ]
  },
  {
   "cell_type": "code",
   "execution_count": 74,
   "metadata": {},
   "outputs": [
    {
     "data": {
      "image/png": "[encoded data removed]",
      "text/plain": [
       "<Figure size 432x288 with 1 Axes>"
      ]
     },
     "metadata": {
      "needs_background": "light"
     },
     "output_type": "display_data"
    }
   ],
   "source": [
    "from wordcloud import WordCloud\n",
    "import matplotlib.pyplot as plt\n",
    "stopwords = stop_words\n",
    "stopwords.update(['place', 'get', 'got', 'one', 'little', 'also'])\n",
    "wordcloud = WordCloud(stopwords = stopwords, background_color=\"white\", mode=\"RGBA\", max_words=40).generate(all_words)\n",
    "\n",
    "plt.figure()\n",
    "plt.imshow(wordcloud, interpolation=\"bilinear\")\n",
    "plt.axis(\"off\")\n",
    "plt.show()"
   ]
  },
  {
   "cell_type": "code",
   "execution_count": null,
   "metadata": {},
   "outputs": [],
   "source": []
  }
 ],
 "metadata": {
  "kernelspec": {
   "display_name": "Python 3",
   "language": "python",
   "name": "python3"
  },
  "language_info": {
   "codemirror_mode": {
    "name": "ipython",
    "version": 3
   },
   "file_extension": ".py",
   "mimetype": "text/x-python",
   "name": "python",
   "nbconvert_exporter": "python",
   "pygments_lexer": "ipython3",
   "version": "3.7.3"
  }
 },
 "nbformat": 4,
 "nbformat_minor": 2
}
